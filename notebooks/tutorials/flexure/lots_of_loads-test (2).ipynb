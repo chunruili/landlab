{
 "cells": [
  {
   "cell_type": "markdown",
   "metadata": {},
   "source": [
    "<a href=\"http://landlab.github.io\"><img style=\"float: left\" src=\"../../landlab_header.png\"></a>"
   ]
  },
  {
   "cell_type": "markdown",
   "metadata": {},
   "source": [
    "# Using the Landlab flexure component\n",
    "\n",
    "<hr>\n",
    "<small>For more Landlab tutorials, click here: <a href=\"https://landlab.readthedocs.io/en/latest/user_guide/tutorials.html\">https://landlab.readthedocs.io/en/latest/user_guide/tutorials.html</a></small>\n",
    "<hr>\n",
    "\n",
    "In this example we will:\n",
    "* create a Landlab component that solves the two-dimensional elastic flexure equation\n",
    "* apply randomly distributed point loads\n",
    "* run the component\n",
    "* plot some output"
   ]
  },
  {
   "cell_type": "markdown",
   "metadata": {},
   "source": [
    "A bit of magic so that we can plot within this notebook."
   ]
  },
  {
   "cell_type": "code",
   "execution_count": 2,
   "metadata": {},
   "outputs": [],
   "source": [
    "%matplotlib inline\n",
    "import numpy as np"
   ]
  },
  {
   "cell_type": "markdown",
   "metadata": {},
   "source": [
    "## Create the grid\n",
    "\n",
    "We are going to build a uniform rectilinear grid with a node spacing of 10 km in the *y*-direction and 20 km in the *x*-direction on which we will solve the flexure equation.\n",
    "\n",
    "First we need to import `RasterModelGrid`.  We also import the Landlab plotting function `imshow_grid` to view the grids."
   ]
  },
  {
   "cell_type": "code",
   "execution_count": 3,
   "metadata": {},
   "outputs": [],
   "source": [
    "from landlab import RasterModelGrid\n",
    "from landlab.plot.imshow import imshow_grid"
   ]
  },
  {
   "cell_type": "code",
   "execution_count": 1,
   "metadata": {},
   "outputs": [],
   "source": [
    "n_rows = 323\n",
    "n_cols = 623\n",
    "dy = 20e2\n",
    "dx = 20e2\n",
    "filename = 'test2.asc'"
   ]
  },
  {
   "cell_type": "code",
   "execution_count": 34,
   "metadata": {},
   "outputs": [],
   "source": [
    "# 此处，把n_rows,n_cols,xy_spacing改成自己的数值，。\n",
    "grid = RasterModelGrid((n_rows, n_cols), xy_spacing=(dy, dx))\n"
   ]
  },
  {
   "cell_type": "code",
   "execution_count": 10,
   "metadata": {},
   "outputs": [],
   "source": [
    "def ReadGrid(filename):\n",
    "    ascii_grid = np.loadtxt(filename, skiprows=3)\n",
    "    print('shape of map:',ascii_grid.shape)\n",
    "    tmpmax = ascii_grid.max()\n",
    "    print('max value:',tmpmax)\n",
    "    ascii_grid[ascii_grid == -9999] = 0\n",
    "    ascii_grid = tmpmax - ascii_grid\n",
    "    ascii_grid[ascii_grid == tmpmax] = 0\n",
    "    \n",
    "    for i in range(int(len(ascii_grid)/2)):\n",
    "        tmprow1 = ascii_grid[i].copy()\n",
    "        tmprow2 = ascii_grid[len(ascii_grid)-1-i].copy()\n",
    "        ascii_grid[i]=tmprow2\n",
    "        ascii_grid[len(ascii_grid)-1-i]=tmprow1\n",
    "    return ascii_grid"
   ]
  },
  {
   "cell_type": "markdown",
   "metadata": {},
   "source": [
    "Create a rectilinear grid with a spacing of 10 km between rows and 20 km between columns. The numbers of rows and columms are provided as a `tuple` of `(n_rows, n_cols)`, in the same manner as similar numpy functions. The spacing is also a `tuple`, `(dy, dx)`."
   ]
  },
  {
   "cell_type": "code",
   "execution_count": 6,
   "metadata": {},
   "outputs": [
    {
     "data": {
      "text/plain": [
       "(2000.0, 1000.0)"
      ]
     },
     "execution_count": 6,
     "metadata": {},
     "output_type": "execute_result"
    }
   ],
   "source": [
    "grid.dy, grid.dx"
   ]
  },
  {
   "cell_type": "markdown",
   "metadata": {},
   "source": [
    "## Create the component"
   ]
  },
  {
   "cell_type": "markdown",
   "metadata": {},
   "source": [
    "Now we create the flexure component and tell it to use our newly-created grid. First, though, we'll examine the `Flexure` component a bit."
   ]
  },
  {
   "cell_type": "code",
   "execution_count": 31,
   "metadata": {},
   "outputs": [],
   "source": [
    "from landlab.components.flexure import Flexure"
   ]
  },
  {
   "cell_type": "markdown",
   "metadata": {},
   "source": [
    "The Flexure component, as with most landlab components, will require our grid to have some data that it will use. We can get the names of these data fields with the `intput_var_names` attribute of the component *class*."
   ]
  },
  {
   "cell_type": "code",
   "execution_count": 24,
   "metadata": {},
   "outputs": [
    {
     "data": {
      "text/plain": [
       "('lithosphere__overlying_pressure_increment',)"
      ]
     },
     "execution_count": 24,
     "metadata": {},
     "output_type": "execute_result"
    }
   ],
   "source": [
    "Flexure.input_var_names"
   ]
  },
  {
   "cell_type": "markdown",
   "metadata": {},
   "source": [
    "We see that flexure uses just one data field: the change in lithospheric loading. landlab component classes can provide additional information about each of these fields. For instance, to the the units for a field, use the `var_units` method."
   ]
  },
  {
   "cell_type": "code",
   "execution_count": 25,
   "metadata": {},
   "outputs": [
    {
     "data": {
      "text/plain": [
       "'Pa'"
      ]
     },
     "execution_count": 25,
     "metadata": {},
     "output_type": "execute_result"
    }
   ],
   "source": [
    "Flexure.var_units('lithosphere__overlying_pressure_increment')"
   ]
  },
  {
   "cell_type": "markdown",
   "metadata": {},
   "source": [
    "To print a more detailed description of a field, use `var_help`."
   ]
  },
  {
   "cell_type": "code",
   "execution_count": 26,
   "metadata": {},
   "outputs": [
    {
     "name": "stdout",
     "output_type": "stream",
     "text": [
      "name: lithosphere__overlying_pressure_increment\n",
      "description:\n",
      "  Applied pressure to the lithosphere over a time step\n",
      "units: Pa\n",
      "unit agnostic: True\n",
      "at: node\n",
      "intent: in\n"
     ]
    }
   ],
   "source": [
    "Flexure.var_help('lithosphere__overlying_pressure_increment')"
   ]
  },
  {
   "cell_type": "markdown",
   "metadata": {},
   "source": [
    "What about the data that `Flexure` provides? Use the `output_var_names` attribute."
   ]
  },
  {
   "cell_type": "code",
   "execution_count": 27,
   "metadata": {},
   "outputs": [
    {
     "data": {
      "text/plain": [
       "('lithosphere_surface__elevation_increment',)"
      ]
     },
     "execution_count": 27,
     "metadata": {},
     "output_type": "execute_result"
    }
   ],
   "source": [
    "Flexure.output_var_names"
   ]
  },
  {
   "cell_type": "code",
   "execution_count": 28,
   "metadata": {},
   "outputs": [
    {
     "name": "stdout",
     "output_type": "stream",
     "text": [
      "name: lithosphere_surface__elevation_increment\n",
      "description:\n",
      "  The change in elevation of the top of the lithosphere (the land\n",
      "  surface) in one timestep\n",
      "units: m\n",
      "unit agnostic: True\n",
      "at: node\n",
      "intent: out\n"
     ]
    }
   ],
   "source": [
    "Flexure.var_help('lithosphere_surface__elevation_increment')"
   ]
  },
  {
   "cell_type": "markdown",
   "metadata": {},
   "source": [
    "Now that we understand the component a little more, create it using our grid."
   ]
  },
  {
   "cell_type": "code",
   "execution_count": 35,
   "metadata": {},
   "outputs": [],
   "source": [
    "grid.add_zeros(\"lithosphere__overlying_pressure_increment\", at=\"node\")\n",
    "flex = Flexure(grid, method='flexure', n_procs=4,gravity =9.8,youngs =65e9,rho_mantle=3300,eet=15000)"
   ]
  },
  {
   "cell_type": "markdown",
   "metadata": {},
   "source": [
    "## Add some loading\n",
    "We will add loads to the grid. As we saw above, for this component, the name of the variable that holds the applied loads is `lithosphere__overlying_pressure`. We add loads of random magnitude at every node of the grid."
   ]
  },
  {
   "cell_type": "code",
   "execution_count": 36,
   "metadata": {},
   "outputs": [
    {
     "name": "stdout",
     "output_type": "stream",
     "text": [
      "shape of map: (323, 623)\n",
      "max value: 4880.0\n"
     ]
    }
   ],
   "source": [
    "#load = np.random.normal(0, 100 * 2650. * 9.81, grid.number_of_nodes)\n",
    "load = ReadGrid(filename)\n",
    "grid.at_node['lithosphere__overlying_pressure_increment'] = load"
   ]
  },
  {
   "cell_type": "code",
   "execution_count": 37,
   "metadata": {},
   "outputs": [
    {
     "data": {
      "image/png": "[encoded data removed]",
      "text/plain": [
       "<Figure size 432x288 with 2 Axes>"
      ]
     },
     "metadata": {
      "needs_background": "light"
     },
     "output_type": "display_data"
    }
   ],
   "source": [
    "imshow_grid(grid,\n",
    "            'lithosphere__overlying_pressure_increment',\n",
    "            symmetric_cbar=False,\n",
    "            cmap='nipy_spectral')"
   ]
  },
  {
   "cell_type": "markdown",
   "metadata": {},
   "source": [
    "## Update the component to solve for deflection\n",
    "If you have more than one processor on your machine you may want to use several of them."
   ]
  },
  {
   "cell_type": "code",
   "execution_count": 38,
   "metadata": {},
   "outputs": [],
   "source": [
    "flex.update()"
   ]
  },
  {
   "cell_type": "markdown",
   "metadata": {},
   "source": [
    "As we saw above, the flexure component creates an output field (`lithosphere_surface__elevation_increment`) that contains surface deflections for the applied loads."
   ]
  },
  {
   "cell_type": "markdown",
   "metadata": {},
   "source": [
    "# Plot the output"
   ]
  },
  {
   "cell_type": "markdown",
   "metadata": {},
   "source": [
    "We now plot these deflections with the `imshow_grid` method, which is available to all landlab components."
   ]
  },
  {
   "cell_type": "code",
   "execution_count": 39,
   "metadata": {
    "scrolled": false
   },
   "outputs": [
    {
     "data": {
      "image/png": "[encoded data removed]",
      "text/plain": [
       "<Figure size 432x288 with 2 Axes>"
      ]
     },
     "metadata": {
      "needs_background": "light"
     },
     "output_type": "display_data"
    }
   ],
   "source": [
    "imshow_grid(grid,\n",
    "            'lithosphere_surface__elevation_increment',\n",
    "            symmetric_cbar=False,\n",
    "            cmap='nipy_spectral')"
   ]
  },
  {
   "cell_type": "markdown",
   "metadata": {},
   "source": [
    "Maintain the same loading distribution but double the effective elastic thickness."
   ]
  },
  {
   "cell_type": "code",
   "execution_count": null,
   "metadata": {},
   "outputs": [],
   "source": [
    "flex.eet *= 2.\n",
    "flex.update()\n",
    "imshow_grid(grid,\n",
    "            'lithosphere_surface__elevation_increment',\n",
    "            symmetric_cbar=True,\n",
    "            cmap='nipy_spectral')"
   ]
  },
  {
   "cell_type": "markdown",
   "metadata": {},
   "source": [
    "Now let's add a vertical rectangular load to the middle of the grid.  We plot the load grid first to make sure we did this correctly."
   ]
  },
  {
   "cell_type": "code",
   "execution_count": null,
   "metadata": {},
   "outputs": [],
   "source": [
    "load[np.where(np.logical_and(grid.node_x>3000000, grid.node_x<5000000))]= \\\n",
    "    load[np.where(np.logical_and(grid.node_x>3000000, grid.node_x<5000000))]+1e7\n",
    "imshow_grid(grid,\n",
    "            'lithosphere__overlying_pressure_increment',\n",
    "            symmetric_cbar=True,\n",
    "            cmap='nipy_spectral')"
   ]
  },
  {
   "cell_type": "code",
   "execution_count": null,
   "metadata": {},
   "outputs": [],
   "source": [
    "flex.update()\n",
    "imshow_grid(grid,\n",
    "            'lithosphere_surface__elevation_increment',\n",
    "            symmetric_cbar=True,\n",
    "            cmap='nipy_spectral')"
   ]
  },
  {
   "cell_type": "markdown",
   "metadata": {},
   "source": [
    "### Click here for more <a href=\"https://landlab.readthedocs.io/en/latest/user_guide/tutorials.html\">Landlab tutorials</a>"
   ]
  },
  {
   "cell_type": "code",
   "execution_count": null,
   "metadata": {},
   "outputs": [],
   "source": []
  }
 ],
 "metadata": {
  "kernelspec": {
   "display_name": "Python 3",
   "language": "python",
   "name": "python3"
  },
  "language_info": {
   "codemirror_mode": {
    "name": "ipython",
    "version": 3
   },
   "file_extension": ".py",
   "mimetype": "text/x-python",
   "name": "python",
   "nbconvert_exporter": "python",
   "pygments_lexer": "ipython3",
   "version": "3.7.6"
  }
 },
 "nbformat": 4,
 "nbformat_minor": 1
}
